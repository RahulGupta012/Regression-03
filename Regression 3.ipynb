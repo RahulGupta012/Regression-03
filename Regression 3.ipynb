{
 "cells": [
  {
   "cell_type": "markdown",
   "id": "30205241-7c65-406a-9f05-78e7441f1984",
   "metadata": {},
   "source": [
    "# REGRESSION   : 03"
   ]
  },
  {
   "cell_type": "markdown",
   "id": "f5d9cb51-9308-4786-b5ca-ed27560d2b84",
   "metadata": {},
   "source": [
    "# Q. What is Ridge Regression, and how does it differ from ordinary least squares regression?"
   ]
  },
  {
   "cell_type": "markdown",
   "id": "43226485-53ce-4693-a9f5-144ed80a3f85",
   "metadata": {},
   "source": [
    "- Ridge regression is a linear regression technique that analyzes data that has multicollinearity.It reduce the overfitting of the model. multicollinearity is basically mean to remove those independent features which are highly correleted to each other, so that the processing of the model will smooth and the overfitting of the model will reduce.It is also called L2 Regulization.\n",
    "\n",
    "- Ordinary Least Squares regression (OLS) is a technique for calculated coefficients of linear regression equations which describe the relationship between one or more independent quantitative variables and a dependent variable ."
   ]
  },
  {
   "cell_type": "markdown",
   "id": "dbcf9c37-d555-4e45-b993-4ed84867aaab",
   "metadata": {},
   "source": [
    "# Q. What are the assumptions of Ridge Regression?"
   ]
  },
  {
   "cell_type": "markdown",
   "id": "391652ee-fbb7-4eba-aa8f-7d0f457dfcb7",
   "metadata": {},
   "source": [
    "These are three assumptions of Ridge Regression\\\n",
    "\n",
    "- linearity\n",
    "- constant variance\n",
    "- independence"
   ]
  },
  {
   "cell_type": "markdown",
   "id": "02005b3d-4007-4970-9237-0e21efa5e1cd",
   "metadata": {},
   "source": [
    "# Q. How do you select the value of the tuning parameter (lambda) in Ridge Regression?"
   ]
  },
  {
   "cell_type": "markdown",
   "id": "92bf3b8e-a602-4b21-b7ce-776003426886",
   "metadata": {},
   "source": [
    "To select the tuning parameter (lambda) in Ridge Regression, you can use cross-validation. We can use the RidgeCv() function for this."
   ]
  },
  {
   "cell_type": "markdown",
   "id": "75d287f5-d5e2-4e70-bc38-a6905a363eb2",
   "metadata": {},
   "source": [
    "# Q. How do you interpret the coefficients of Ridge Regression?"
   ]
  },
  {
   "cell_type": "markdown",
   "id": "4bda9767-408f-45fc-882b-0863d875e09f",
   "metadata": {},
   "source": [
    "Ridge regression coefficients are a reduced factor of the simple linear regression coefficients. They never attain zero values but very small values\n",
    "- As the value of alpha increases, the magnitude of the coefficients decreases. The values reach zero but not absolute zero."
   ]
  },
  {
   "cell_type": "code",
   "execution_count": null,
   "id": "835a927e-da69-4bc2-af54-cc92303899b8",
   "metadata": {},
   "outputs": [],
   "source": []
  }
 ],
 "metadata": {
  "kernelspec": {
   "display_name": "Python 3 (ipykernel)",
   "language": "python",
   "name": "python3"
  },
  "language_info": {
   "codemirror_mode": {
    "name": "ipython",
    "version": 3
   },
   "file_extension": ".py",
   "mimetype": "text/x-python",
   "name": "python",
   "nbconvert_exporter": "python",
   "pygments_lexer": "ipython3",
   "version": "3.10.8"
  }
 },
 "nbformat": 4,
 "nbformat_minor": 5
}
